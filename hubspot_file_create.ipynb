{
 "cells": [
  {
   "cell_type": "markdown",
   "metadata": {},
   "source": [
    "# Create HubSpot File From Contacts"
   ]
  },
  {
   "cell_type": "markdown",
   "metadata": {},
   "source": [
    "### Dependencies and Setup"
   ]
  },
  {
   "cell_type": "code",
   "execution_count": 1,
   "metadata": {},
   "outputs": [],
   "source": [
    "# import dependencies\n",
    "import pandas as pd"
   ]
  },
  {
   "cell_type": "markdown",
   "metadata": {},
   "source": [
    "### File Creation"
   ]
  },
  {
   "cell_type": "code",
   "execution_count": 2,
   "metadata": {},
   "outputs": [],
   "source": [
    "# load in csv with contacts\n",
    "contact_list = pd.read_csv('data_files/Director_DS_LinkedIN_second_hunterio_run.csv')"
   ]
  },
  {
   "cell_type": "code",
   "execution_count": 3,
   "metadata": {},
   "outputs": [],
   "source": [
    "contact_list = contact_list.drop(columns=['Unnamed: 0', 'Unnamed: 0.1'])"
   ]
  },
  {
   "cell_type": "code",
   "execution_count": 4,
   "metadata": {},
   "outputs": [
    {
     "data": {
      "text/html": [
       "<div>\n",
       "<style scoped>\n",
       "    .dataframe tbody tr th:only-of-type {\n",
       "        vertical-align: middle;\n",
       "    }\n",
       "\n",
       "    .dataframe tbody tr th {\n",
       "        vertical-align: top;\n",
       "    }\n",
       "\n",
       "    .dataframe thead th {\n",
       "        text-align: right;\n",
       "    }\n",
       "</style>\n",
       "<table border=\"1\" class=\"dataframe\">\n",
       "  <thead>\n",
       "    <tr style=\"text-align: right;\">\n",
       "      <th></th>\n",
       "      <th>profileUrl</th>\n",
       "      <th>vmid</th>\n",
       "      <th>name</th>\n",
       "      <th>firstName</th>\n",
       "      <th>lastName</th>\n",
       "      <th>title</th>\n",
       "      <th>companyName</th>\n",
       "      <th>companyId</th>\n",
       "      <th>companyUrl</th>\n",
       "      <th>location</th>\n",
       "      <th>duration</th>\n",
       "      <th>query</th>\n",
       "      <th>timestamp</th>\n",
       "      <th>pastRole</th>\n",
       "      <th>email</th>\n",
       "    </tr>\n",
       "  </thead>\n",
       "  <tbody>\n",
       "    <tr>\n",
       "      <th>0</th>\n",
       "      <td>https://www.linkedin.com/sales/people/ACwAAAE0...</td>\n",
       "      <td>ACwAAAE0cDUB316kCrt1QTWUPnsFAVjEpUxzFeI</td>\n",
       "      <td>Shaofei Huang</td>\n",
       "      <td>Shaofei</td>\n",
       "      <td>Huang</td>\n",
       "      <td>Chief Information Security Officer</td>\n",
       "      <td>Land Transport Authority (LTA) Singapore</td>\n",
       "      <td>12977.0</td>\n",
       "      <td>https://www.linkedin.com/company/12977</td>\n",
       "      <td>Singapore</td>\n",
       "      <td>3 months in role  4 years 4 months in company</td>\n",
       "      <td>Director Data Science</td>\n",
       "      <td>2019-07-28T17:58:16.450Z</td>\n",
       "      <td>NaN</td>\n",
       "      <td>NaN</td>\n",
       "    </tr>\n",
       "    <tr>\n",
       "      <th>1</th>\n",
       "      <td>https://www.linkedin.com/sales/people/ACwAAABh...</td>\n",
       "      <td>ACwAAABh0MwBm4fRM_GDU7O25wVcFpRduZgCJHk</td>\n",
       "      <td>Liang Xie, PhD</td>\n",
       "      <td>Liang</td>\n",
       "      <td>Xie, PhD</td>\n",
       "      <td>Director of Data Science</td>\n",
       "      <td>滴滴</td>\n",
       "      <td>6472832.0</td>\n",
       "      <td>https://www.linkedin.com/company/6472832</td>\n",
       "      <td>China</td>\n",
       "      <td>1 year 5 months in role and company</td>\n",
       "      <td>Director Data Science</td>\n",
       "      <td>2019-07-28T17:58:16.451Z</td>\n",
       "      <td>Principal Lead Data Scientist at Microsoft   (...</td>\n",
       "      <td>NaN</td>\n",
       "    </tr>\n",
       "    <tr>\n",
       "      <th>2</th>\n",
       "      <td>https://www.linkedin.com/sales/people/ACwAAAua...</td>\n",
       "      <td>ACwAAAuaTXkBH5QmKPaPl4C-SVetCGnSMhu8CP4</td>\n",
       "      <td>Wan Ting Poh</td>\n",
       "      <td>Wan</td>\n",
       "      <td>Ting Poh</td>\n",
       "      <td>Director, Data Science</td>\n",
       "      <td>Allianz SE Insurance Management Asia Pacific</td>\n",
       "      <td>1997334.0</td>\n",
       "      <td>https://www.linkedin.com/company/1997334</td>\n",
       "      <td>Singapore</td>\n",
       "      <td>3 years 8 months in role and company</td>\n",
       "      <td>Director Data Science</td>\n",
       "      <td>2019-07-28T17:58:16.451Z</td>\n",
       "      <td>Research Associate at National University of S...</td>\n",
       "      <td>NaN</td>\n",
       "    </tr>\n",
       "    <tr>\n",
       "      <th>3</th>\n",
       "      <td>https://www.linkedin.com/sales/people/ACwAAAGI...</td>\n",
       "      <td>ACwAAAGIuqYBpI5D1C7UXZ_S1QUWd4qEoNsbZcE</td>\n",
       "      <td>Imtiaz Adam</td>\n",
       "      <td>Imtiaz</td>\n",
       "      <td>Adam</td>\n",
       "      <td>Director Data Science</td>\n",
       "      <td>Deep Learn Strategies Limited</td>\n",
       "      <td>27168795.0</td>\n",
       "      <td>https://www.linkedin.com/company/27168795</td>\n",
       "      <td>London, United Kingdom</td>\n",
       "      <td>2 years 11 months in role and company</td>\n",
       "      <td>Director Data Science</td>\n",
       "      <td>2019-07-28T17:58:16.452Z</td>\n",
       "      <td>Sloan Fellow in Strategy &amp; Leadership at Londo...</td>\n",
       "      <td>NaN</td>\n",
       "    </tr>\n",
       "    <tr>\n",
       "      <th>4</th>\n",
       "      <td>https://www.linkedin.com/sales/people/ACwAAAUj...</td>\n",
       "      <td>ACwAAAUj3LwBRt_J_3zJ2HrmyOa-tSUq1HRfkog</td>\n",
       "      <td>Dr. Karen Bartuch, MA</td>\n",
       "      <td>Dr.</td>\n",
       "      <td>Karen Bartuch, MA</td>\n",
       "      <td>Executive Director, Center for Innovation &amp; En...</td>\n",
       "      <td>North Central College</td>\n",
       "      <td>20704.0</td>\n",
       "      <td>https://www.linkedin.com/company/20704</td>\n",
       "      <td>Greater Chicago Area</td>\n",
       "      <td>8 months in role and company</td>\n",
       "      <td>Director Data Science</td>\n",
       "      <td>2019-07-28T17:58:16.454Z</td>\n",
       "      <td>NaN</td>\n",
       "      <td>NaN</td>\n",
       "    </tr>\n",
       "  </tbody>\n",
       "</table>\n",
       "</div>"
      ],
      "text/plain": [
       "                                          profileUrl  \\\n",
       "0  https://www.linkedin.com/sales/people/ACwAAAE0...   \n",
       "1  https://www.linkedin.com/sales/people/ACwAAABh...   \n",
       "2  https://www.linkedin.com/sales/people/ACwAAAua...   \n",
       "3  https://www.linkedin.com/sales/people/ACwAAAGI...   \n",
       "4  https://www.linkedin.com/sales/people/ACwAAAUj...   \n",
       "\n",
       "                                      vmid                   name firstName  \\\n",
       "0  ACwAAAE0cDUB316kCrt1QTWUPnsFAVjEpUxzFeI          Shaofei Huang   Shaofei   \n",
       "1  ACwAAABh0MwBm4fRM_GDU7O25wVcFpRduZgCJHk         Liang Xie, PhD     Liang   \n",
       "2  ACwAAAuaTXkBH5QmKPaPl4C-SVetCGnSMhu8CP4           Wan Ting Poh       Wan   \n",
       "3  ACwAAAGIuqYBpI5D1C7UXZ_S1QUWd4qEoNsbZcE            Imtiaz Adam    Imtiaz   \n",
       "4  ACwAAAUj3LwBRt_J_3zJ2HrmyOa-tSUq1HRfkog  Dr. Karen Bartuch, MA       Dr.   \n",
       "\n",
       "            lastName                                              title  \\\n",
       "0              Huang                 Chief Information Security Officer   \n",
       "1           Xie, PhD                           Director of Data Science   \n",
       "2           Ting Poh                             Director, Data Science   \n",
       "3               Adam                              Director Data Science   \n",
       "4  Karen Bartuch, MA  Executive Director, Center for Innovation & En...   \n",
       "\n",
       "                                     companyName   companyId  \\\n",
       "0      Land Transport Authority (LTA) Singapore      12977.0   \n",
       "1                                            滴滴    6472832.0   \n",
       "2  Allianz SE Insurance Management Asia Pacific    1997334.0   \n",
       "3                 Deep Learn Strategies Limited   27168795.0   \n",
       "4                         North Central College      20704.0   \n",
       "\n",
       "                                  companyUrl                location  \\\n",
       "0     https://www.linkedin.com/company/12977               Singapore   \n",
       "1   https://www.linkedin.com/company/6472832                   China   \n",
       "2   https://www.linkedin.com/company/1997334               Singapore   \n",
       "3  https://www.linkedin.com/company/27168795  London, United Kingdom   \n",
       "4     https://www.linkedin.com/company/20704    Greater Chicago Area   \n",
       "\n",
       "                                         duration                  query  \\\n",
       "0  3 months in role  4 years 4 months in company   Director Data Science   \n",
       "1             1 year 5 months in role and company  Director Data Science   \n",
       "2            3 years 8 months in role and company  Director Data Science   \n",
       "3           2 years 11 months in role and company  Director Data Science   \n",
       "4                    8 months in role and company  Director Data Science   \n",
       "\n",
       "                  timestamp  \\\n",
       "0  2019-07-28T17:58:16.450Z   \n",
       "1  2019-07-28T17:58:16.451Z   \n",
       "2  2019-07-28T17:58:16.451Z   \n",
       "3  2019-07-28T17:58:16.452Z   \n",
       "4  2019-07-28T17:58:16.454Z   \n",
       "\n",
       "                                            pastRole email  \n",
       "0                                                NaN   NaN  \n",
       "1  Principal Lead Data Scientist at Microsoft   (...   NaN  \n",
       "2  Research Associate at National University of S...   NaN  \n",
       "3  Sloan Fellow in Strategy & Leadership at Londo...   NaN  \n",
       "4                                                NaN   NaN  "
      ]
     },
     "execution_count": 4,
     "metadata": {},
     "output_type": "execute_result"
    }
   ],
   "source": [
    "contact_list.head()"
   ]
  },
  {
   "cell_type": "code",
   "execution_count": 5,
   "metadata": {},
   "outputs": [],
   "source": [
    "# only import contacts with an email address\n",
    "email_present = contact_list.copy()\n",
    "email_present = email_present.loc[~email_present['email'].isna(), :]"
   ]
  },
  {
   "cell_type": "code",
   "execution_count": 6,
   "metadata": {},
   "outputs": [],
   "source": [
    "# columns to keep: 'firstName', 'lastName', 'email', 'phone number',\n",
    "# 'profileUrl', 'companyName', 'location', 'duration', 'query'\n",
    "# only keep rows with email address\n",
    "email_present = email_present[['firstName', 'lastName', 'email',\n",
    "                              'profileUrl', 'companyName', 'location', \n",
    "                              'duration', 'query']]\n",
    "email_present = email_present.rename(columns={'query': 'jobTitle',\n",
    "                                             'profileUrl': 'linkedInUrl'})"
   ]
  },
  {
   "cell_type": "code",
   "execution_count": 8,
   "metadata": {},
   "outputs": [],
   "source": [
    "# reorder columns to match hubspot upload and add in missing columns\n",
    "email_present['industry'] = ''\n",
    "email_present['freeLinkedInMail'] = ''\n",
    "email_present['personalEmail'] = ''\n",
    "email_present['reachedOut'] = ''\n",
    "email_present['message'] = ''\n",
    "\n",
    "email_present = email_present[['firstName', 'lastName', 'jobTitle', 'companyName',\n",
    "                              'industry', 'linkedInUrl', 'location', 'freeLinkedInMail',\n",
    "                              'email', 'personalEmail', 'reachedOut', 'message']]"
   ]
  },
  {
   "cell_type": "code",
   "execution_count": 10,
   "metadata": {},
   "outputs": [],
   "source": [
    "email_present.to_csv('data_files/hubspot_contact_upload_09282019.csv')"
   ]
  }
 ],
 "metadata": {
  "kernelspec": {
   "display_name": "Python [conda env:PythonData]",
   "language": "python",
   "name": "conda-env-PythonData-py"
  },
  "language_info": {
   "codemirror_mode": {
    "name": "ipython",
    "version": 3
   },
   "file_extension": ".py",
   "mimetype": "text/x-python",
   "name": "python",
   "nbconvert_exporter": "python",
   "pygments_lexer": "ipython3",
   "version": "3.6.7"
  }
 },
 "nbformat": 4,
 "nbformat_minor": 2
}
